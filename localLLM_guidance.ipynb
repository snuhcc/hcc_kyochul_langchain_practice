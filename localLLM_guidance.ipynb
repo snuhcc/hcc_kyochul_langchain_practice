{
 "cells": [
  {
   "cell_type": "markdown",
   "id": "ccaf4be8-8caf-4908-aa84-af5bbb46c4b3",
   "metadata": {},
   "source": [
    "reference: https://betterprogramming.pub/a-simple-agent-with-guidance-and-local-llm-c0865c97eaa9"
   ]
  },
  {
   "cell_type": "code",
   "execution_count": null,
   "id": "70e74dab-1594-46e2-82ac-fee6b3f47a24",
   "metadata": {},
   "outputs": [],
   "source": []
  }
 ],
 "metadata": {
  "kernelspec": {
   "display_name": "Python 3 (ipykernel)",
   "language": "python",
   "name": "python3"
  },
  "language_info": {
   "codemirror_mode": {
    "name": "ipython",
    "version": 3
   },
   "file_extension": ".py",
   "mimetype": "text/x-python",
   "name": "python",
   "nbconvert_exporter": "python",
   "pygments_lexer": "ipython3",
   "version": "3.9.13"
  }
 },
 "nbformat": 4,
 "nbformat_minor": 5
}
