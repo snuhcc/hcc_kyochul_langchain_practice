{
 "cells": [
  {
   "cell_type": "code",
   "execution_count": 1,
   "id": "b1c9e27f-3050-4675-a2a4-bd86566583d7",
   "metadata": {},
   "outputs": [
    {
     "data": {
      "text/plain": [
       "True"
      ]
     },
     "execution_count": 1,
     "metadata": {},
     "output_type": "execute_result"
    }
   ],
   "source": [
    "import dotenv\n",
    "import os\n",
    "dotenv.load_dotenv()"
   ]
  },
  {
   "cell_type": "markdown",
   "id": "8ea47aa1-e534-4698-8a06-1576e2703cc5",
   "metadata": {},
   "source": [
    "# Helper Function"
   ]
  },
  {
   "cell_type": "code",
   "execution_count": 2,
   "id": "71d7e742-3c38-46d4-8f79-4b0a50cc5a44",
   "metadata": {},
   "outputs": [],
   "source": [
    "def format_task(tasks):\n",
    "    task_time_pairs = []\n",
    "    for task in tasks:\n",
    "        task, time_str = item.rsplit(':', 1)\n",
    "        time_int = int(time_str.replace('time', '').strip())\n",
    "        task_time_pairs.append((task, time))\n",
    "    return task_time_pairs"
   ]
  },
  {
   "cell_type": "markdown",
   "id": "2f48fd20-9643-4a9f-b6ad-f534ded2d3ed",
   "metadata": {},
   "source": [
    "# GraphState"
   ]
  },
  {
   "cell_type": "code",
   "execution_count": 3,
   "id": "7b46cd4f-fea0-420c-9f60-19d2f2709724",
   "metadata": {},
   "outputs": [],
   "source": [
    "from typing import TypedDict"
   ]
  },
  {
   "cell_type": "code",
   "execution_count": 4,
   "id": "aa1fbe95-8bc5-4c18-b30b-714eaf664065",
   "metadata": {},
   "outputs": [],
   "source": [
    "class GraphState(TypedDict):\n",
    "    goal: str\n",
    "    todo: list[str]\n",
    "    current_job: str\n",
    "    total_time: int\n",
    "    time_spent: int\n",
    "    status: str"
   ]
  },
  {
   "cell_type": "markdown",
   "id": "0998d349-4a03-4738-b08f-77f7c2c15bc3",
   "metadata": {},
   "source": [
    "# Node & Edge"
   ]
  },
  {
   "cell_type": "code",
   "execution_count": 5,
   "id": "055ec8aa-184d-483c-866f-77ca955ebd0d",
   "metadata": {},
   "outputs": [],
   "source": [
    "from langchain_openai import ChatOpenAI\n",
    "from langchain_core.prompts import ChatPromptTemplate\n",
    "from langchain_core.output_parsers import CommaSeparatedListOutputParser"
   ]
  },
  {
   "cell_type": "code",
   "execution_count": 6,
   "id": "c96658cd-148d-4e60-af49-d1e482278e09",
   "metadata": {},
   "outputs": [],
   "source": [
    "def create_todo_list(goal):\n",
    "    output_parser = CommaSeparatedListOutputParser()\n",
    "    prompt = ChatPromptTemplate.from_messages(\n",
    "        [\n",
    "            ('system', 'You are my secretary. You should build a todo list for me'),\n",
    "            ('human', \"Please write a todo list for performing the goal. The format for the todo list should be 'task: hour' where task is the task to achieve the goal, and hour means the time requires for acheving the task. You should round up the time so that the time can be an integer. \\n\\n#Goal: {goal}\\n\\n#format: {format_instructions}\"),\n",
    "        ]\n",
    "    )\n",
    "    prompt = prompt.partial(format_instructions=output_parser.get_format_instructions())\n",
    "    llm = ChatOpenAI(model_name='gpt-4o-mini')\n",
    "\n",
    "    chain = prompt | llm | CommaSeparatedListOutputParser()\n",
    "    \n",
    "    output = chain.invoke({'goal': goal})\n",
    "    return output\n",
    "    "
   ]
  },
  {
   "cell_type": "code",
   "execution_count": 7,
   "id": "6d113dfc-247d-4b97-9473-2e5b4542acad",
   "metadata": {},
   "outputs": [],
   "source": [
    "todo = create_todo_list('Study LangGraph')"
   ]
  },
  {
   "cell_type": "code",
   "execution_count": 8,
   "id": "b855fca4-6033-45fa-b843-978822305e44",
   "metadata": {},
   "outputs": [
    {
     "name": "stdout",
     "output_type": "stream",
     "text": [
      "['Research LangGraph basics: 2', 'Set up development environment: 1', 'Complete introductory tutorials: 3', 'Build a simple project using LangGraph: 4', 'Review project and document learnings: 2', 'Join LangGraph community forums: 1', 'Explore advanced features and functionalities: 3', 'Practice by creating additional projects: 5']\n"
     ]
    }
   ],
   "source": [
    "print(todo)"
   ]
  },
  {
   "cell_type": "markdown",
   "id": "4b29a3d4-36a5-4a47-926c-50192af0ae7c",
   "metadata": {},
   "source": [
    "# Define specific function for each nodes"
   ]
  },
  {
   "cell_type": "code",
   "execution_count": 9,
   "id": "c8b04199-4a26-4367-b5e5-08f9c8dc3c86",
   "metadata": {},
   "outputs": [],
   "source": [
    "def list_todo(state: GraphState) -> GraphState:\n",
    "    goal = state['goal'] # return the value of the key, goal\n",
    "    todo = create_todo_list(goal)\n",
    "    todo = format_task(todo)\n",
    "    \n",
    "    return GraphState(todo=todo)"
   ]
  },
  {
   "cell_type": "code",
   "execution_count": 10,
   "id": "f29414d0-538c-47b8-a976-85cbb0fbc177",
   "metadata": {},
   "outputs": [],
   "source": [
    "def start_job(state: GraphState) -> GraphState:\n",
    "    todo = state['todo']\n",
    "    if len(todo):\n",
    "        current_job, total_time = todo.pop(0)\n",
    "        status = 'work in progress'\n",
    "        time_spent = 0\n",
    "    return GraphState(\n",
    "        current_job=current_job,\n",
    "        total_time=total_time,\n",
    "        status=status,\n",
    "        time_spent=time_spent,\n",
    "    )"
   ]
  },
  {
   "cell_type": "code",
   "execution_count": 11,
   "id": "dab29fba-d291-4abc-84f6-bd51d7f37986",
   "metadata": {},
   "outputs": [],
   "source": [
    "def process_job(state: GraphState) -> GraphState:\n",
    "    time_spent = state['time_spent']\n",
    "    time_spent += 1\n",
    "    \n",
    "    return GraphState(time_spent=time_spent)"
   ]
  },
  {
   "cell_type": "code",
   "execution_count": 18,
   "id": "70d1dbbb-d14a-4b93-8ae3-01c2fd3b1635",
   "metadata": {},
   "outputs": [],
   "source": [
    "def check_progress(state: GraphState) -> GraphState:\n",
    "    if state['time_spent'] >= state['total_time']:\n",
    "        status = 'next task'\n",
    "        if len(state['todo']) == 0:\n",
    "            status = 'done'\n",
    "    else:\n",
    "        status = 'work in progress'\n",
    "    return GraphState(status=status)"
   ]
  },
  {
   "cell_type": "code",
   "execution_count": 13,
   "id": "65ad141d-a153-4bcf-aa60-755c97137a9d",
   "metadata": {},
   "outputs": [],
   "source": [
    "def next_step(state: GraphState) -> GraphState:\n",
    "    return state['status']"
   ]
  },
  {
   "cell_type": "markdown",
   "id": "ac9bc921-c2a0-42eb-af2d-daaa1dbb6c92",
   "metadata": {},
   "source": [
    "# Define Graph"
   ]
  },
  {
   "cell_type": "code",
   "execution_count": 17,
   "id": "5d9293f6-de1f-44b3-8599-bf5dd1db4fbb",
   "metadata": {},
   "outputs": [],
   "source": [
    "from langgraph.graph import END, StateGraph\n",
    "from langgraph.checkpoint.memory import MemorySaver"
   ]
  },
  {
   "cell_type": "code",
   "execution_count": 20,
   "id": "ab2a08de-125f-436e-9bcd-e1bdd7836277",
   "metadata": {},
   "outputs": [],
   "source": [
    "workflow = StateGraph(GraphState)\n",
    "\n",
    "workflow.add_node('list_todo', list_todo)\n",
    "\n",
    "workflow.add_node('start_job', start_job)\n",
    "\n",
    "workflow.add_node('process_job', process_job)\n",
    "\n",
    "workflow.add_node('check_progress', check_progress)\n",
    "\n",
    "workflow.add_edge('list_todo', 'start_job')\n",
    "workflow.add_edge('start_job', 'process_job')\n",
    "workflow.add_edge('process_job', 'check_progress')\n",
    "\n",
    "workflow.add_conditional_edges(\n",
    "    'check_progress',\n",
    "    next_step,\n",
    "    {\n",
    "        'work in progress': 'process_job',\n",
    "        'next task': 'start_job',\n",
    "        'done': END,\n",
    "    },\n",
    ")"
   ]
  },
  {
   "cell_type": "code",
   "execution_count": 21,
   "id": "ca22f44b-0801-4466-9f41-5b1e4fc0defc",
   "metadata": {},
   "outputs": [],
   "source": [
    "workflow.set_entry_point('list_todo')\n",
    "memory = MemorySaver()\n",
    "app = workflow.compile(checkpointer=memory)"
   ]
  },
  {
   "cell_type": "markdown",
   "id": "04cb9f5e-1698-49f6-903b-25f417d4bfdc",
   "metadata": {},
   "source": [
    "# Visualize Graph"
   ]
  },
  {
   "cell_type": "code",
   "execution_count": 22,
   "id": "8dc4c2ee-fab6-4c3b-8f11-4cbd3d5aa8bd",
   "metadata": {},
   "outputs": [],
   "source": [
    "from IPython.display import Image, display"
   ]
  },
  {
   "cell_type": "code",
   "execution_count": 25,
   "id": "054c5a2b-2aaf-42d6-b403-323b4dc87418",
   "metadata": {},
   "outputs": [
    {
     "data": {
      "image/jpeg": "[encoded data removed]",
      "text/plain": [
       "<IPython.core.display.Image object>"
      ]
     },
     "metadata": {},
     "output_type": "display_data"
    }
   ],
   "source": [
    "display(Image(app.get_graph(xray=True).draw_mermaid_png()))"
   ]
  },
  {
   "cell_type": "markdown",
   "id": "a24a65d9-b416-4186-bac5-763fa9039eb7",
   "metadata": {},
   "source": [
    "# Execute"
   ]
  },
  {
   "cell_type": "code",
   "execution_count": 26,
   "id": "f7d1b15b-bd44-4bfc-ba27-55daca24884e",
   "metadata": {},
   "outputs": [],
   "source": [
    "import pprint\n",
    "from langgraph.errors import GraphRecursionError\n",
    "from langchain_core.runnables import RunnableConfig"
   ]
  },
  {
   "cell_type": "code",
   "execution_count": null,
   "id": "6bbfca4c-d7e7-4efd-994a-83af7c285e55",
   "metadata": {},
   "outputs": [],
   "source": [
    "config = RunnableConfig(recursion_limit=100, configurable={'thread_id': 'TODO'})\n",
    "\n",
    "inputs = GraphState(goal='finish the lagngraph practice task given by Professor Suh')\n",
    "\n",
    "try:\n",
    "    for output in app.stream(inputs, config=config):\n",
    "        for key, value in output.items():\n",
    "            pprint.pprint(f'[NODE] {key}')\n",
    "            \n",
    "            for k, v in value.items():\n",
    "                pprint.pprint(f'<{k}> {v}')\n",
    "            oorint.pprint('===' * 10)\n",
    "except GraphRecursionError as e:\n",
    "    pprint.pprint(f'Recu\n",
    "                        "
   ]
  }
 ],
 "metadata": {
  "kernelspec": {
   "display_name": "Python 3 (ipykernel)",
   "language": "python",
   "name": "python3"
  },
  "language_info": {
   "codemirror_mode": {
    "name": "ipython",
    "version": 3
   },
   "file_extension": ".py",
   "mimetype": "text/x-python",
   "name": "python",
   "nbconvert_exporter": "python",
   "pygments_lexer": "ipython3",
   "version": "3.9.13"
  }
 },
 "nbformat": 4,
 "nbformat_minor": 5
}
