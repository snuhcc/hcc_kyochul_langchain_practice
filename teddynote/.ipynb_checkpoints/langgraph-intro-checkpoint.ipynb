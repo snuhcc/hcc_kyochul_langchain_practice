{
 "cells": [
  {
   "cell_type": "code",
   "execution_count": 3,
   "id": "b1c9e27f-3050-4675-a2a4-bd86566583d7",
   "metadata": {},
   "outputs": [],
   "source": [
    "import dotenv\n",
    "import os"
   ]
  },
  {
   "cell_type": "markdown",
   "id": "8ea47aa1-e534-4698-8a06-1576e2703cc5",
   "metadata": {},
   "source": [
    "# Helper Function"
   ]
  },
  {
   "cell_type": "code",
   "execution_count": 8,
   "id": "71d7e742-3c38-46d4-8f79-4b0a50cc5a44",
   "metadata": {},
   "outputs": [],
   "source": [
    "def format_task(tasks):\n",
    "    task_time_pairs = []\n",
    "    for task in tasks:\n",
    "        task, time_str = item.rsplit(':', 1)\n",
    "        time_int = int(time_str.replace('time', '').strip())\n",
    "        task_time_pairs.append((task, time))\n",
    "    return task_time_pairs"
   ]
  },
  {
   "cell_type": "markdown",
   "id": "2f48fd20-9643-4a9f-b6ad-f534ded2d3ed",
   "metadata": {},
   "source": [
    "# GraphState"
   ]
  },
  {
   "cell_type": "code",
   "execution_count": 14,
   "id": "7b46cd4f-fea0-420c-9f60-19d2f2709724",
   "metadata": {},
   "outputs": [],
   "source": [
    "from typing import TypedDict"
   ]
  },
  {
   "cell_type": "code",
   "execution_count": 16,
   "id": "aa1fbe95-8bc5-4c18-b30b-714eaf664065",
   "metadata": {},
   "outputs": [],
   "source": [
    "class GraphState(TypedDict):\n",
    "    goal: str\n",
    "    todo: list[str]\n",
    "    current_job: str\n",
    "    total_time: int\n",
    "    time_spent: int\n",
    "    status: str"
   ]
  },
  {
   "cell_type": "markdown",
   "id": "0998d349-4a03-4738-b08f-77f7c2c15bc3",
   "metadata": {},
   "source": [
    "# Node & Edge"
   ]
  },
  {
   "cell_type": "code",
   "execution_count": 9,
   "id": "055ec8aa-184d-483c-866f-77ca955ebd0d",
   "metadata": {},
   "outputs": [],
   "source": [
    "from langchain_openai import ChatOpenAI\n",
    "from langchain_core.prompts import ChatPromptTemplate\n",
    "from langchain_core.output_parsers import CommaSeparatedListOutputParser"
   ]
  },
  {
   "cell_type": "code",
   "execution_count": 37,
   "id": "c96658cd-148d-4e60-af49-d1e482278e09",
   "metadata": {},
   "outputs": [],
   "source": [
    "def create_todo_list(goal):\n",
    "    output_parser = CommaSeparatedListOutputParser()\n",
    "    prompt = ChatPromptTemplate.from_messages(\n",
    "        [\n",
    "            ('system', 'You are my secretary. You should build a todo list for me'),\n",
    "            ('human', \"Please write a todo list for performing the goal. The format for the todo list should be 'task: hour' where task is the task to achieve the goal, and hour means the time requires for acheving the task. You should round up the time so that the time can be an integer. \\n\\n#Goal: {goal}\\n\\n#format: {format_instructions}\"),\n",
    "        ]\n",
    "    )\n",
    "    prompt = prompt.partial(format_instructions=output_parser.get_format_instructions())\n",
    "    llm = ChatOpenAI(model_name='gpt-4o-mini')\n",
    "\n",
    "    chain = prompt | llm | CommaSeparatedListOutputParser()\n",
    "    \n",
    "    output = chain.invoke({'goal': goal})\n",
    "    return output\n",
    "    "
   ]
  },
  {
   "cell_type": "code",
   "execution_count": 38,
   "id": "6d113dfc-247d-4b97-9473-2e5b4542acad",
   "metadata": {},
   "outputs": [],
   "source": [
    "todo = create_todo_list('Study LangGraph')"
   ]
  },
  {
   "cell_type": "code",
   "execution_count": 39,
   "id": "b855fca4-6033-45fa-b843-978822305e44",
   "metadata": {},
   "outputs": [
    {
     "name": "stdout",
     "output_type": "stream",
     "text": [
      "['Read introductory materials on LangGraph: 2', 'Watch tutorial videos on LangGraph: 3', 'Practice coding examples using LangGraph: 4', 'Join online forums or communities related to LangGraph: 1', 'Complete a small project using LangGraph: 5', \"Review and summarize what you've learned: 2\", 'Create a study schedule for advanced topics: 1']\n"
     ]
    }
   ],
   "source": [
    "print(todo)"
   ]
  },
  {
   "cell_type": "markdown",
   "id": "4b29a3d4-36a5-4a47-926c-50192af0ae7c",
   "metadata": {},
   "source": [
    "# Define specific function for each nodes"
   ]
  },
  {
   "cell_type": "code",
   "execution_count": 40,
   "id": "c8b04199-4a26-4367-b5e5-08f9c8dc3c86",
   "metadata": {},
   "outputs": [],
   "source": [
    "def list_todo(state: GraphState) -> GraphState:\n",
    "    goal = state['goal'] # return the value of the key, goal\n",
    "    todo = create_todo_list(goal)\n",
    "    todo = format_task(todo)\n",
    "    \n",
    "    return GraphState(todo=todo)"
   ]
  },
  {
   "cell_type": "code",
   "execution_count": 41,
   "id": "f29414d0-538c-47b8-a976-85cbb0fbc177",
   "metadata": {},
   "outputs": [],
   "source": [
    "def start_job(state: GraphState) -> GraphState:\n",
    "    todo = state['todo']\n",
    "    if len(todo):\n",
    "        current_job, total_time = todo.pop(0)\n",
    "        status = 'work in progress'\n",
    "        time_spent = 0\n",
    "    return GraphState(\n",
    "        current_job=current_job,\n",
    "        total_time=total_time,\n",
    "        status=status,\n",
    "        time_spent=time_spent,\n",
    "    )"
   ]
  },
  {
   "cell_type": "code",
   "execution_count": 42,
   "id": "dab29fba-d291-4abc-84f6-bd51d7f37986",
   "metadata": {},
   "outputs": [],
   "source": [
    "def process_job(state: GraphState) -> GraphState:\n",
    "    time_spent = state['time_spent']\n",
    "    time_spent += 1\n",
    "    \n",
    "    return GraphState(time_spent=time_spent)"
   ]
  },
  {
   "cell_type": "code",
   "execution_count": 43,
   "id": "70d1dbbb-d14a-4b93-8ae3-01c2fd3b1635",
   "metadata": {},
   "outputs": [],
   "source": [
    "def check_progress(state: GraphState) -> GraphState:\n",
    "    if state['time_spent'] >= state['total_time']:\n",
    "        status = 'next task'\n",
    "        if len(state['todo']) == 0:\n",
    "            status = 'done'\n",
    "    else:\n",
    "        status = 'work in progrss2'\n",
    "    return GraphState(status=status)"
   ]
  },
  {
   "cell_type": "code",
   "execution_count": 44,
   "id": "65ad141d-a153-4bcf-aa60-755c97137a9d",
   "metadata": {},
   "outputs": [],
   "source": [
    "def next_step(state: GraphState) -> GraphState:\n",
    "    return state['status']"
   ]
  },
  {
   "cell_type": "markdown",
   "id": "ac9bc921-c2a0-42eb-af2d-daaa1dbb6c92",
   "metadata": {},
   "source": [
    "# Define Graph"
   ]
  },
  {
   "cell_type": "code",
   "execution_count": 47,
   "id": "5d9293f6-de1f-44b3-8599-bf5dd1db4fbb",
   "metadata": {},
   "outputs": [
    {
     "ename": "ModuleNotFoundError",
     "evalue": "No module named 'langgraph'",
     "output_type": "error",
     "traceback": [
      "\u001b[0;31m---------------------------------------------------------------------------\u001b[0m",
      "\u001b[0;31mModuleNotFoundError\u001b[0m                       Traceback (most recent call last)",
      "\u001b[0;32m/var/folders/q9/cj19nh5j5sqfw90mvb1p38rh0000gn/T/ipykernel_39692/3039584812.py\u001b[0m in \u001b[0;36m<module>\u001b[0;34m\u001b[0m\n\u001b[0;32m----> 1\u001b[0;31m \u001b[0;32mfrom\u001b[0m \u001b[0mlanggraph\u001b[0m\u001b[0;34m.\u001b[0m\u001b[0mgraph\u001b[0m \u001b[0;32mimport\u001b[0m \u001b[0mEND\u001b[0m\u001b[0;34m,\u001b[0m \u001b[0mStateGraph\u001b[0m\u001b[0;34m\u001b[0m\u001b[0;34m\u001b[0m\u001b[0m\n\u001b[0m\u001b[1;32m      2\u001b[0m \u001b[0;32mfrom\u001b[0m \u001b[0mlanggraph\u001b[0m\u001b[0;34m.\u001b[0m\u001b[0mcheckpoint\u001b[0m\u001b[0;34m.\u001b[0m\u001b[0mmemory\u001b[0m \u001b[0;32mimport\u001b[0m \u001b[0mMemorySaver\u001b[0m\u001b[0;34m\u001b[0m\u001b[0;34m\u001b[0m\u001b[0m\n",
      "\u001b[0;31mModuleNotFoundError\u001b[0m: No module named 'langgraph'"
     ]
    }
   ],
   "source": [
    "from langgraph.graph import END, StateGraph\n",
    "from langgraph.checkpoint.memory import MemorySaver"
   ]
  },
  {
   "cell_type": "code",
   "execution_count": null,
   "id": "517bc4c7-1735-4e9d-a07a-c5ccb9d3ff7a",
   "metadata": {},
   "outputs": [],
   "source": []
  }
 ],
 "metadata": {
  "kernelspec": {
   "display_name": "Python 3 (ipykernel)",
   "language": "python",
   "name": "python3"
  },
  "language_info": {
   "codemirror_mode": {
    "name": "ipython",
    "version": 3
   },
   "file_extension": ".py",
   "mimetype": "text/x-python",
   "name": "python",
   "nbconvert_exporter": "python",
   "pygments_lexer": "ipython3",
   "version": "3.9.13"
  }
 },
 "nbformat": 4,
 "nbformat_minor": 5
}
