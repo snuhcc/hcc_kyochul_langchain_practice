


from openai import OpenAI
import json
import argparse
import tqdm
import time
import os
import dotenv
from pathlib import Path
import time
import re
import dotenv
dotenv.load_dotenv()
from geval_stats import gen_plots
import gen_dataset_json
import math
import generate_batch_dataset





save_fp = gen_dataset_json.gen_dataset() # Generate section_data.json from the datasets in pre_dataset directory
print(save_fp)





fp = generate_batch_dataset.create_batch_jsonl(save_fp) # Create batch jsonl file for all dataset in post_dataset directory
print(fp)





res_dict = {}
cur_path = Path('data/post_dataset/temp')

for fp in cur_path.glob('*.jsonl'):
    if 'QWEN2_5_7B_BOOK' in fp.name:
        score_binary_file_path, batch_result = generate_batch_dataset.run_batch(fp)
        res_dict[score_binary_file_path] = batch_result





generate_batch_dataset.get_batch_score('batch_result/kyo_test_batch.jsonl')



