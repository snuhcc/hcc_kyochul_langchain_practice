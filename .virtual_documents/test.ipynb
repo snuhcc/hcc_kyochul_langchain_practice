from openai import OpenAI
from math import exp
import numpy as np
from IPython.display import display, HTML
import os

client = OpenAI(api_key=os.environ.get("OPENAI_API_KEY", "<your OpenAI API key if not set as env var>"))


def get_completion(
    messages: list[dict[str, str]],
    model: str = "gpt-4",
    max_tokens=500,
    temperature=0,
    stop=None,
    seed=123,
    tools=None,
    logprobs=None,  # whether to return log probabilities of the output tokens or not. If true, returns the log probabilities of each output token returned in the content of message..
    top_logprobs=None,
) -> str:
    params = {
        "model": model,
        "messages": messages,
        "max_tokens": max_tokens,
        "temperature": temperature,
        "stop": stop,
        "seed": seed,
        "logprobs": logprobs,
        "top_logprobs": top_logprobs,
    }
    if tools:
        params["tools"] = tools

    completion = client.chat.completions.create(**params)
    return completion


CLASSIFICATION_PROMPT = """You will be given a headline of a news article.
Classify the article into one of the following categories: Technology, Politics, Sports, and Art.
Return only the name of the category, and nothing else.
MAKE SURE your output is one of the four categories stated.
Article headline: {headline}"""



headlines = [
    "Tech Giant Unveils Latest Smartphone Model with Advanced Photo-Editing Features.",
    "Local Mayor Launches Initiative to Enhance Urban Public Transport.",
    "Tennis Champion Showcases Hidden Talents in Symphony Orchestra Debut",
]



for headline in headlines:
    print(f"\nHeadline: {headline}")
    API_RESPONSE = get_completion(
        [{"role": "user", "content": CLASSIFICATION_PROMPT.format(headline=headline)}],
        model="gpt-4",
    )
    # print(f"Category: {API_RESPONSE.choices[0].message.content}\n")
    print(f"Category: {API_RESPONSE}\n")


headline = '택시가 SUV 들이받아 5ｍ 아래 낭떠러지 추락...박살난 차량 파편에 행인 부상',

print(f"\nHeadline: {headline}")
for model in ['gpt-4', 'gpt-4o', 'chatgpt-4o-latest', 'gpt-4o-mini']:
    API_RESPONSE = get_completion(
        [{"role": "user", "content": CLASSIFICATION_PROMPT.format(headline=headline)}],
        model=model,
        logprobs=True,
        top_logprobs=2,
    )
    top_two_logprobs = API_RESPONSE.choices[0].logprobs.content[0].top_logprobs
    html_content = ""
    for i, logprob in enumerate(top_two_logprobs, start=1):
        html_content += (
            f"<span style='color: cyan'>Output token {i}:</span> {logprob.token}, "
            f"<span style='color: darkorange'>logprobs:</span> {logprob.logprob}, "
            f"<span style='color: magenta'>linear probability:</span> {np.round(np.exp(logprob.logprob)*100,2)}%, "
            f"<span style='color: red'>used:</span> {model}<br>"
        )
    display(HTML(html_content))
    print("\n")


import os
import pandas as pd
os.chdir('/Users/kyochul_jang/Library/CloudStorage/GoogleDrive-gcj1234567890@gmail.com/Other computers/My Laptop/Purdue/Fall_2024/NH데이터분석/temp')


for csv_file in os.listdir(os.getcwd()):
    if 'csv' in csv_file:
        print(csv_file)
        df = pd.read_csv(csv_file, encoding='utf-8')
        name = csv_file[:csv_file.find('.')]
        xlsx_file = f'{name}_file.xlsx'
        df.to_excel(xlsx_file, index=False)
        print(f"CSV 파일이 {xlsx_file}로 성공적으로 변환되었습니다.")


import pandas as pd

# CSV 파일 경로 입력
csv_file = 'input_file.csv'

# CSV 파일을 읽어들이기
df = pd.read_csv(csv_file)

# XLSX 파일로 변환하여 저장
xlsx_file = 'output_file.xlsx'
df.to_excel(xlsx_file, index=False)

print(f"CSV 파일이 {xlsx_file}로 성공적으로 변환되었습니다.")
